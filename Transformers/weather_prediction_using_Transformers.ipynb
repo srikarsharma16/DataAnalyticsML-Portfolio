{
 "cells": [
  {
   "cell_type": "markdown",
   "metadata": {},
   "source": [
    "Transformers Implementation\n",
    "===========================================\n",
    "\n",
    "**Author:** Srikar Kalle  \n",
    "**Student ID:** C00313529  \n",
    "\n",
    "## 🔗 Base Code Reference:  \n",
    "The initial implementation was based on [Kaggle: Weather Prediction using RNN](https://www.kaggle.com/code/syedali110/weather-prediction-using-rnn).  \n",
    "The model in the base code used **LSTMs** for sequence modeling. Our updated implementation replaces it with a **Transformer-based model** for improved long-range sequence learning.\n",
    "\n",
    "# **Change Log**  \n",
    "---\n",
    "\n",
    "| SL No. | Change Category              | Description | Duration (mins) | Difficulty (1-10) |\n",
    "|--------|------------------------------|-------------|-----------------|-------------------|\n",
    "| 1      | **Dataset**                  | Updated the dataset path to use a new **GlobalWeatherRepository.csv** dataset instead of the Seattle weather dataset. | 10               | 3                 |\n",
    "| 2      | **Feature Selection**         | Added more weather-related features: **humidity, pressure_mb, wind_kph, visibility_km** along with **temperature_celsius** to the dataset, improving the model's ability to predict. | 15               | 4                 |\n",
    "| 3      | **Data Preprocessing**        | Removed missing values and normalized the dataset using **MinMaxScaler** to ensure better model convergence. | 15               | 4                 |\n",
    "| 4      | **Model Architecture**        | Replaced the **RNN** model with a **Transformer** architecture, using **MultiHeadAttention** and **Dense layers** for improved sequence processing. | 30               | 7                 |\n",
    "| 5      | **Model Layers**              | Added **LayerNormalization** and **Dropout layers** for regularization and to avoid overfitting, improving the generalization ability of the model. | 20               | 6                 |\n",
    "| 6      | **Sequence Preparation**      | Updated the sequence preparation logic to match the new dataset and transformer model, generating sequences of length **10**. | 15               | 4                 |\n",
    "| 7      | **Model Compilation**         | Changed model compilation to use the **Adam optimizer** with **learning_rate=0.001**, and **MSE loss** for regression tasks. | 10               | 3                 |\n",
    "| 8      | **Training and Evaluation**   | Added **validation data** during training, and improved loss evaluation by plotting both **train** and **validation loss**. | 20               | 4                 |\n",
    "| 9      | **Model Saving**              | Updated model saving format to store the **Transformer model** with the name `weather_transformer_model.h5`. | 5                | 2                 |\n",
    "| 10     | **Visualization**             | Added visualizations for training and validation loss to help track model performance over epochs. | 10               | 4                 |\n",
    "\n",
    "---\n",
    "\n",
    "## Key Changes from Base Code:\n",
    "\n",
    "- Replaced the **RNN-based model** with a **Transformer model** for weather prediction.\n",
    "- Introduced **multi-head attention** in the model architecture to improve sequence learning.\n",
    "- Used **LayerNormalization** and **Dropout** for better regularization.\n",
    "- Added more relevant weather features (humidity, pressure, wind speed, and visibility) in the dataset.\n",
    "- Used **MinMaxScaler** for better data normalization to improve model accuracy.\n",
    "- Implemented **train-validation split** to track model overfitting and validation loss.\n",
    "- Visualization of the training loss and validation loss to track the model’s learning.\n"
   ]
  },
  {
   "cell_type": "code",
   "execution_count": 1,
   "metadata": {},
   "outputs": [],
   "source": [
    "import pandas as pd\n",
    "import numpy as np\n",
    "import tensorflow as tf\n",
    "from tensorflow.keras.models import Model\n",
    "from tensorflow.keras.layers import Input, Dense, LayerNormalization, Dropout, MultiHeadAttention, Embedding, Flatten\n",
    "from sklearn.preprocessing import MinMaxScaler\n",
    "import matplotlib.pyplot as plt\n",
    "from sklearn.model_selection import train_test_split"
   ]
  },
  {
   "cell_type": "code",
   "execution_count": 2,
   "metadata": {},
   "outputs": [],
   "source": [
    "# Load the dataset\n",
    "dataset_path = \"C:/Users/Srikar K/MachineLearning-CACodes/Transformers/data/GlobalWeatherRepository.csv\"\n",
    "df = pd.read_csv(dataset_path)"
   ]
  },
  {
   "cell_type": "code",
   "execution_count": 3,
   "metadata": {},
   "outputs": [],
   "source": [
    "# Select relevant features\n",
    "selected_features = ['temperature_celsius', 'humidity', 'pressure_mb', 'wind_kph', 'visibility_km']\n",
    "df = df[selected_features]"
   ]
  },
  {
   "cell_type": "code",
   "execution_count": 4,
   "metadata": {},
   "outputs": [],
   "source": [
    "# Handle missing values\n",
    "df.dropna(inplace=True)"
   ]
  },
  {
   "cell_type": "code",
   "execution_count": 5,
   "metadata": {},
   "outputs": [],
   "source": [
    "# Normalize data\n",
    "scaler = MinMaxScaler()\n",
    "df_scaled = pd.DataFrame(scaler.fit_transform(df), columns=df.columns)"
   ]
  },
  {
   "cell_type": "code",
   "execution_count": 6,
   "metadata": {},
   "outputs": [],
   "source": [
    "# Prepare data for Transformer model\n",
    "sequence_length = 10\n",
    "X, y = [], []\n",
    "for i in range(len(df_scaled) - sequence_length):\n",
    "    X.append(df_scaled.iloc[i:i+sequence_length].values)\n",
    "    y.append(df_scaled.iloc[i+sequence_length]['temperature_celsius'])\n",
    "X, y = np.array(X), np.array(y)"
   ]
  },
  {
   "cell_type": "code",
   "execution_count": 7,
   "metadata": {},
   "outputs": [],
   "source": [
    "# Train-Test Split\n",
    "X_train, X_test, y_train, y_test = train_test_split(X, y, test_size=0.2, shuffle=False)"
   ]
  },
  {
   "cell_type": "code",
   "execution_count": 8,
   "metadata": {},
   "outputs": [],
   "source": [
    "# Transformer Block\n",
    "def transformer_encoder(inputs, head_size=64, num_heads=2, ff_dim=128, dropout=0.1):\n",
    "    x = MultiHeadAttention(num_heads=num_heads, key_dim=head_size)(inputs, inputs)\n",
    "    x = Dropout(dropout)(x)\n",
    "    x = LayerNormalization(epsilon=1e-6)(x)\n",
    "    res = x + inputs\n",
    "    \n",
    "    x = Dense(ff_dim, activation=\"relu\")(res)\n",
    "    x = Dropout(dropout)(x)\n",
    "    x = Dense(inputs.shape[-1])(x)\n",
    "    x = LayerNormalization(epsilon=1e-6)(x)\n",
    "    return x + res"
   ]
  },
  {
   "cell_type": "code",
   "execution_count": 9,
   "metadata": {},
   "outputs": [],
   "source": [
    "# Define Model\n",
    "input_shape = (sequence_length, X.shape[2])\n",
    "inputs = Input(shape=input_shape)\n",
    "x = transformer_encoder(inputs)\n",
    "x = Flatten()(x)\n",
    "x = Dense(32, activation=\"relu\")(x)\n",
    "x = Dense(1)(x)"
   ]
  },
  {
   "cell_type": "code",
   "execution_count": 10,
   "metadata": {},
   "outputs": [],
   "source": [
    "model = Model(inputs, x)"
   ]
  },
  {
   "cell_type": "code",
   "execution_count": 11,
   "metadata": {},
   "outputs": [],
   "source": [
    "# Compile model\n",
    "model.compile(optimizer=tf.keras.optimizers.Adam(learning_rate=0.001), loss='mse')"
   ]
  },
  {
   "cell_type": "code",
   "execution_count": 12,
   "metadata": {},
   "outputs": [
    {
     "name": "stdout",
     "output_type": "stream",
     "text": [
      "Epoch 1/50\n",
      "\u001b[1m1525/1525\u001b[0m \u001b[32m━━━━━━━━━━━━━━━━━━━━\u001b[0m\u001b[37m\u001b[0m \u001b[1m23s\u001b[0m 11ms/step - loss: 0.0384 - val_loss: 0.0286\n",
      "Epoch 2/50\n",
      "\u001b[1m1525/1525\u001b[0m \u001b[32m━━━━━━━━━━━━━━━━━━━━\u001b[0m\u001b[37m\u001b[0m \u001b[1m19s\u001b[0m 12ms/step - loss: 0.0153 - val_loss: 0.0212\n",
      "Epoch 3/50\n",
      "\u001b[1m1525/1525\u001b[0m \u001b[32m━━━━━━━━━━━━━━━━━━━━\u001b[0m\u001b[37m\u001b[0m \u001b[1m17s\u001b[0m 11ms/step - loss: 0.0146 - val_loss: 0.0210\n",
      "Epoch 4/50\n",
      "\u001b[1m1525/1525\u001b[0m \u001b[32m━━━━━━━━━━━━━━━━━━━━\u001b[0m\u001b[37m\u001b[0m \u001b[1m15s\u001b[0m 10ms/step - loss: 0.0142 - val_loss: 0.0213\n",
      "Epoch 5/50\n",
      "\u001b[1m1525/1525\u001b[0m \u001b[32m━━━━━━━━━━━━━━━━━━━━\u001b[0m\u001b[37m\u001b[0m \u001b[1m18s\u001b[0m 12ms/step - loss: 0.0139 - val_loss: 0.0205\n",
      "Epoch 6/50\n",
      "\u001b[1m1525/1525\u001b[0m \u001b[32m━━━━━━━━━━━━━━━━━━━━\u001b[0m\u001b[37m\u001b[0m \u001b[1m17s\u001b[0m 11ms/step - loss: 0.0134 - val_loss: 0.0191\n",
      "Epoch 7/50\n",
      "\u001b[1m1525/1525\u001b[0m \u001b[32m━━━━━━━━━━━━━━━━━━━━\u001b[0m\u001b[37m\u001b[0m \u001b[1m16s\u001b[0m 10ms/step - loss: 0.0130 - val_loss: 0.0171\n",
      "Epoch 8/50\n",
      "\u001b[1m1525/1525\u001b[0m \u001b[32m━━━━━━━━━━━━━━━━━━━━\u001b[0m\u001b[37m\u001b[0m \u001b[1m17s\u001b[0m 11ms/step - loss: 0.0122 - val_loss: 0.0149\n",
      "Epoch 9/50\n",
      "\u001b[1m1525/1525\u001b[0m \u001b[32m━━━━━━━━━━━━━━━━━━━━\u001b[0m\u001b[37m\u001b[0m \u001b[1m19s\u001b[0m 12ms/step - loss: 0.0109 - val_loss: 0.0137\n",
      "Epoch 10/50\n",
      "\u001b[1m1525/1525\u001b[0m \u001b[32m━━━━━━━━━━━━━━━━━━━━\u001b[0m\u001b[37m\u001b[0m \u001b[1m16s\u001b[0m 10ms/step - loss: 0.0101 - val_loss: 0.0121\n",
      "Epoch 11/50\n",
      "\u001b[1m1525/1525\u001b[0m \u001b[32m━━━━━━━━━━━━━━━━━━━━\u001b[0m\u001b[37m\u001b[0m \u001b[1m18s\u001b[0m 12ms/step - loss: 0.0094 - val_loss: 0.0113\n",
      "Epoch 12/50\n",
      "\u001b[1m1525/1525\u001b[0m \u001b[32m━━━━━━━━━━━━━━━━━━━━\u001b[0m\u001b[37m\u001b[0m \u001b[1m16s\u001b[0m 10ms/step - loss: 0.0085 - val_loss: 0.0109\n",
      "Epoch 13/50\n",
      "\u001b[1m1525/1525\u001b[0m \u001b[32m━━━━━━━━━━━━━━━━━━━━\u001b[0m\u001b[37m\u001b[0m \u001b[1m16s\u001b[0m 11ms/step - loss: 0.0080 - val_loss: 0.0100\n",
      "Epoch 14/50\n",
      "\u001b[1m1525/1525\u001b[0m \u001b[32m━━━━━━━━━━━━━━━━━━━━\u001b[0m\u001b[37m\u001b[0m \u001b[1m15s\u001b[0m 10ms/step - loss: 0.0074 - val_loss: 0.0097\n",
      "Epoch 15/50\n",
      "\u001b[1m1525/1525\u001b[0m \u001b[32m━━━━━━━━━━━━━━━━━━━━\u001b[0m\u001b[37m\u001b[0m \u001b[1m15s\u001b[0m 10ms/step - loss: 0.0071 - val_loss: 0.0093\n",
      "Epoch 16/50\n",
      "\u001b[1m1525/1525\u001b[0m \u001b[32m━━━━━━━━━━━━━━━━━━━━\u001b[0m\u001b[37m\u001b[0m \u001b[1m16s\u001b[0m 10ms/step - loss: 0.0068 - val_loss: 0.0094\n",
      "Epoch 17/50\n",
      "\u001b[1m1525/1525\u001b[0m \u001b[32m━━━━━━━━━━━━━━━━━━━━\u001b[0m\u001b[37m\u001b[0m \u001b[1m16s\u001b[0m 11ms/step - loss: 0.0068 - val_loss: 0.0087\n",
      "Epoch 18/50\n",
      "\u001b[1m1525/1525\u001b[0m \u001b[32m━━━━━━━━━━━━━━━━━━━━\u001b[0m\u001b[37m\u001b[0m \u001b[1m17s\u001b[0m 11ms/step - loss: 0.0065 - val_loss: 0.0088\n",
      "Epoch 19/50\n",
      "\u001b[1m1525/1525\u001b[0m \u001b[32m━━━━━━━━━━━━━━━━━━━━\u001b[0m\u001b[37m\u001b[0m \u001b[1m16s\u001b[0m 10ms/step - loss: 0.0063 - val_loss: 0.0087\n",
      "Epoch 20/50\n",
      "\u001b[1m1525/1525\u001b[0m \u001b[32m━━━━━━━━━━━━━━━━━━━━\u001b[0m\u001b[37m\u001b[0m \u001b[1m16s\u001b[0m 10ms/step - loss: 0.0063 - val_loss: 0.0090\n",
      "Epoch 21/50\n",
      "\u001b[1m1525/1525\u001b[0m \u001b[32m━━━━━━━━━━━━━━━━━━━━\u001b[0m\u001b[37m\u001b[0m \u001b[1m17s\u001b[0m 11ms/step - loss: 0.0061 - val_loss: 0.0090\n",
      "Epoch 22/50\n",
      "\u001b[1m1525/1525\u001b[0m \u001b[32m━━━━━━━━━━━━━━━━━━━━\u001b[0m\u001b[37m\u001b[0m \u001b[1m17s\u001b[0m 11ms/step - loss: 0.0060 - val_loss: 0.0088\n",
      "Epoch 23/50\n",
      "\u001b[1m1525/1525\u001b[0m \u001b[32m━━━━━━━━━━━━━━━━━━━━\u001b[0m\u001b[37m\u001b[0m \u001b[1m16s\u001b[0m 10ms/step - loss: 0.0059 - val_loss: 0.0084\n",
      "Epoch 24/50\n",
      "\u001b[1m1525/1525\u001b[0m \u001b[32m━━━━━━━━━━━━━━━━━━━━\u001b[0m\u001b[37m\u001b[0m \u001b[1m15s\u001b[0m 10ms/step - loss: 0.0059 - val_loss: 0.0085\n",
      "Epoch 25/50\n",
      "\u001b[1m1525/1525\u001b[0m \u001b[32m━━━━━━━━━━━━━━━━━━━━\u001b[0m\u001b[37m\u001b[0m \u001b[1m16s\u001b[0m 10ms/step - loss: 0.0057 - val_loss: 0.0084\n",
      "Epoch 26/50\n",
      "\u001b[1m1525/1525\u001b[0m \u001b[32m━━━━━━━━━━━━━━━━━━━━\u001b[0m\u001b[37m\u001b[0m \u001b[1m15s\u001b[0m 10ms/step - loss: 0.0057 - val_loss: 0.0084\n",
      "Epoch 27/50\n",
      "\u001b[1m1525/1525\u001b[0m \u001b[32m━━━━━━━━━━━━━━━━━━━━\u001b[0m\u001b[37m\u001b[0m \u001b[1m16s\u001b[0m 11ms/step - loss: 0.0057 - val_loss: 0.0084\n",
      "Epoch 28/50\n",
      "\u001b[1m1525/1525\u001b[0m \u001b[32m━━━━━━━━━━━━━━━━━━━━\u001b[0m\u001b[37m\u001b[0m \u001b[1m16s\u001b[0m 10ms/step - loss: 0.0056 - val_loss: 0.0086\n",
      "Epoch 29/50\n",
      "\u001b[1m1525/1525\u001b[0m \u001b[32m━━━━━━━━━━━━━━━━━━━━\u001b[0m\u001b[37m\u001b[0m \u001b[1m17s\u001b[0m 11ms/step - loss: 0.0056 - val_loss: 0.0089\n",
      "Epoch 30/50\n",
      "\u001b[1m1525/1525\u001b[0m \u001b[32m━━━━━━━━━━━━━━━━━━━━\u001b[0m\u001b[37m\u001b[0m \u001b[1m16s\u001b[0m 10ms/step - loss: 0.0055 - val_loss: 0.0085\n",
      "Epoch 31/50\n",
      "\u001b[1m1525/1525\u001b[0m \u001b[32m━━━━━━━━━━━━━━━━━━━━\u001b[0m\u001b[37m\u001b[0m \u001b[1m16s\u001b[0m 11ms/step - loss: 0.0054 - val_loss: 0.0086\n",
      "Epoch 32/50\n",
      "\u001b[1m1525/1525\u001b[0m \u001b[32m━━━━━━━━━━━━━━━━━━━━\u001b[0m\u001b[37m\u001b[0m \u001b[1m16s\u001b[0m 10ms/step - loss: 0.0054 - val_loss: 0.0080\n",
      "Epoch 33/50\n",
      "\u001b[1m1525/1525\u001b[0m \u001b[32m━━━━━━━━━━━━━━━━━━━━\u001b[0m\u001b[37m\u001b[0m \u001b[1m18s\u001b[0m 12ms/step - loss: 0.0053 - val_loss: 0.0078\n",
      "Epoch 34/50\n",
      "\u001b[1m1525/1525\u001b[0m \u001b[32m━━━━━━━━━━━━━━━━━━━━\u001b[0m\u001b[37m\u001b[0m \u001b[1m18s\u001b[0m 11ms/step - loss: 0.0052 - val_loss: 0.0080\n",
      "Epoch 35/50\n",
      "\u001b[1m1525/1525\u001b[0m \u001b[32m━━━━━━━━━━━━━━━━━━━━\u001b[0m\u001b[37m\u001b[0m \u001b[1m16s\u001b[0m 11ms/step - loss: 0.0052 - val_loss: 0.0077\n",
      "Epoch 36/50\n",
      "\u001b[1m1525/1525\u001b[0m \u001b[32m━━━━━━━━━━━━━━━━━━━━\u001b[0m\u001b[37m\u001b[0m \u001b[1m18s\u001b[0m 12ms/step - loss: 0.0052 - val_loss: 0.0078\n",
      "Epoch 37/50\n",
      "\u001b[1m1525/1525\u001b[0m \u001b[32m━━━━━━━━━━━━━━━━━━━━\u001b[0m\u001b[37m\u001b[0m \u001b[1m17s\u001b[0m 11ms/step - loss: 0.0053 - val_loss: 0.0078\n",
      "Epoch 38/50\n",
      "\u001b[1m1525/1525\u001b[0m \u001b[32m━━━━━━━━━━━━━━━━━━━━\u001b[0m\u001b[37m\u001b[0m \u001b[1m17s\u001b[0m 11ms/step - loss: 0.0052 - val_loss: 0.0073\n",
      "Epoch 39/50\n",
      "\u001b[1m1525/1525\u001b[0m \u001b[32m━━━━━━━━━━━━━━━━━━━━\u001b[0m\u001b[37m\u001b[0m \u001b[1m18s\u001b[0m 12ms/step - loss: 0.0050 - val_loss: 0.0076\n",
      "Epoch 40/50\n",
      "\u001b[1m1525/1525\u001b[0m \u001b[32m━━━━━━━━━━━━━━━━━━━━\u001b[0m\u001b[37m\u001b[0m \u001b[1m15s\u001b[0m 10ms/step - loss: 0.0050 - val_loss: 0.0076\n",
      "Epoch 41/50\n",
      "\u001b[1m1525/1525\u001b[0m \u001b[32m━━━━━━━━━━━━━━━━━━━━\u001b[0m\u001b[37m\u001b[0m \u001b[1m18s\u001b[0m 12ms/step - loss: 0.0050 - val_loss: 0.0074\n",
      "Epoch 42/50\n",
      "\u001b[1m1525/1525\u001b[0m \u001b[32m━━━━━━━━━━━━━━━━━━━━\u001b[0m\u001b[37m\u001b[0m \u001b[1m15s\u001b[0m 10ms/step - loss: 0.0049 - val_loss: 0.0076\n",
      "Epoch 43/50\n",
      "\u001b[1m1525/1525\u001b[0m \u001b[32m━━━━━━━━━━━━━━━━━━━━\u001b[0m\u001b[37m\u001b[0m \u001b[1m17s\u001b[0m 11ms/step - loss: 0.0049 - val_loss: 0.0072\n",
      "Epoch 44/50\n",
      "\u001b[1m1525/1525\u001b[0m \u001b[32m━━━━━━━━━━━━━━━━━━━━\u001b[0m\u001b[37m\u001b[0m \u001b[1m19s\u001b[0m 13ms/step - loss: 0.0048 - val_loss: 0.0072\n",
      "Epoch 45/50\n",
      "\u001b[1m1525/1525\u001b[0m \u001b[32m━━━━━━━━━━━━━━━━━━━━\u001b[0m\u001b[37m\u001b[0m \u001b[1m21s\u001b[0m 14ms/step - loss: 0.0047 - val_loss: 0.0071\n",
      "Epoch 46/50\n",
      "\u001b[1m1525/1525\u001b[0m \u001b[32m━━━━━━━━━━━━━━━━━━━━\u001b[0m\u001b[37m\u001b[0m \u001b[1m20s\u001b[0m 13ms/step - loss: 0.0048 - val_loss: 0.0071\n",
      "Epoch 47/50\n",
      "\u001b[1m1525/1525\u001b[0m \u001b[32m━━━━━━━━━━━━━━━━━━━━\u001b[0m\u001b[37m\u001b[0m \u001b[1m23s\u001b[0m 15ms/step - loss: 0.0046 - val_loss: 0.0071\n",
      "Epoch 48/50\n",
      "\u001b[1m1525/1525\u001b[0m \u001b[32m━━━━━━━━━━━━━━━━━━━━\u001b[0m\u001b[37m\u001b[0m \u001b[1m17s\u001b[0m 11ms/step - loss: 0.0046 - val_loss: 0.0073\n",
      "Epoch 49/50\n",
      "\u001b[1m1525/1525\u001b[0m \u001b[32m━━━━━━━━━━━━━━━━━━━━\u001b[0m\u001b[37m\u001b[0m \u001b[1m17s\u001b[0m 11ms/step - loss: 0.0047 - val_loss: 0.0072\n",
      "Epoch 50/50\n",
      "\u001b[1m1525/1525\u001b[0m \u001b[32m━━━━━━━━━━━━━━━━━━━━\u001b[0m\u001b[37m\u001b[0m \u001b[1m17s\u001b[0m 11ms/step - loss: 0.0046 - val_loss: 0.0069\n"
     ]
    }
   ],
   "source": [
    "# Train model\n",
    "history = model.fit(X_train, y_train, epochs=50, batch_size=32, validation_data=(X_test, y_test))\n"
   ]
  },
  {
   "cell_type": "code",
   "execution_count": 13,
   "metadata": {},
   "outputs": [
    {
     "data": {
      "image/png": "[encoded data removed]",
      "text/plain": [
       "<Figure size 640x480 with 1 Axes>"
      ]
     },
     "metadata": {},
     "output_type": "display_data"
    }
   ],
   "source": [
    "# Plot loss\n",
    "plt.plot(history.history['loss'], label='Train Loss')\n",
    "plt.plot(history.history['val_loss'], label='Validation Loss')\n",
    "plt.legend()\n",
    "plt.show()"
   ]
  },
  {
   "cell_type": "code",
   "execution_count": 14,
   "metadata": {},
   "outputs": [
    {
     "name": "stderr",
     "output_type": "stream",
     "text": [
      "WARNING:absl:You are saving your model as an HDF5 file via `model.save()` or `keras.saving.save_model(model)`. This file format is considered legacy. We recommend using instead the native Keras format, e.g. `model.save('my_model.keras')` or `keras.saving.save_model(model, 'my_model.keras')`. \n"
     ]
    }
   ],
   "source": [
    "# Save model\n",
    "model.save(\"weather_transformer_model.h5\")"
   ]
  }
 ],
 "metadata": {
  "kernelspec": {
   "display_name": "Python 3",
   "language": "python",
   "name": "python3"
  },
  "language_info": {
   "codemirror_mode": {
    "name": "ipython",
    "version": 3
   },
   "file_extension": ".py",
   "mimetype": "text/x-python",
   "name": "python",
   "nbconvert_exporter": "python",
   "pygments_lexer": "ipython3",
   "version": "3.12.6"
  }
 },
 "nbformat": 4,
 "nbformat_minor": 2
}
