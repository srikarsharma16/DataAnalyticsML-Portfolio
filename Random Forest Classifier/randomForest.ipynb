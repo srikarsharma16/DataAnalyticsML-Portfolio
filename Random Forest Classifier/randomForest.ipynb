{
 "cells": [
  {
   "cell_type": "markdown",
   "metadata": {},
   "source": [
    "Random Forest Classifier Implementation\n",
    "========================================\n",
    "\n",
    "**Author:** Srikar Kalle  \n",
    "**Student ID:** C00313529  \n",
    "\n",
    "-----------\n",
    "# Change Log:\n",
    "-----------\n",
    "\n",
    "# Random Forest Change Log  \n",
    "\n",
    "| SL No. | Change Category                  | Description | Duration (mins) | Difficulty (1-10) |  \n",
    "|--------|----------------------------------|-------------|-----------------|-------------------|  \n",
    "| 1      | Dataset Used                     | Replaced `make_blobs()` and `load_digits()` with the **Iris dataset** from Seaborn. | 10 | 4 |  \n",
    "| 2      | Hyperparameter Tuning            | Implemented **`GridSearchCV`** for tuning `n_estimators`, `max_depth`, and `min_samples_split`. | 20 | 7 |  \n",
    "| 3      | Model Training Approach          | Used `GridSearchCV` to find the **best parameters** before model fitting. | 15 | 6 |  \n",
    "| 4      | Feature Importance Visualization | Added **bar chart visualization** of feature importance using `pd.Series(best_model.feature_importances_)`. | 12 | 5 |  \n",
    "| 5      | Evaluation Metrics               | Included `classification_report`, `accuracy_score`, and **logging of best parameters**. | 10 | 5 |  \n",
    "| 6      | Data Handling                    | Switched from **NumPy arrays and synthetic data** to a **Pandas DataFrame** using Seaborn’s `iris` dataset. | 8 | 4 |  \n",
    "| 7      | Train-Test Split                 | Updated `train_test_split()` with a **20% test split** (`test_size=0.2, random_state=42`). | 5 | 3 |  \n",
    "| 8      | Overall Structure                | Reorganized pipeline to follow **CRISP-DM framework**, making it more structured. | 10 | 4 |  \n",
    "\n",
    "\n",
    "## Summary of Improvements  \n",
    "- The updated code is **more structured** and follows the **CRISP-DM framework**.  \n",
    "- **Hyperparameter tuning** is implemented for better model performance.  \n",
    "- **Feature importance visualization** is added to understand model decision-making.  \n",
    "- **Evaluation metrics** are expanded beyond just the confusion matrix.  \n"
   ]
  },
  {
   "cell_type": "code",
   "execution_count": 1,
   "metadata": {},
   "outputs": [],
   "source": [
    "import numpy as np\n",
    "import pandas as pd\n",
    "import matplotlib.pyplot as plt\n",
    "import seaborn as sns\n",
    "from sklearn.model_selection import train_test_split, GridSearchCV\n",
    "from sklearn.ensemble import RandomForestClassifier\n",
    "from sklearn.metrics import classification_report, confusion_matrix, accuracy_score"
   ]
  },
  {
   "cell_type": "code",
   "execution_count": 2,
   "metadata": {},
   "outputs": [],
   "source": [
    "iris = sns.load_dataset('iris')"
   ]
  },
  {
   "cell_type": "code",
   "execution_count": 3,
   "metadata": {},
   "outputs": [],
   "source": [
    "X = iris.drop(columns=['species'])\n",
    "y = iris['species']\n",
    "X_train, X_test, y_train, y_test = train_test_split(X, y, test_size=0.2, random_state=42)"
   ]
  },
  {
   "cell_type": "code",
   "execution_count": 4,
   "metadata": {},
   "outputs": [],
   "source": [
    "model = RandomForestClassifier(random_state=42)"
   ]
  },
  {
   "cell_type": "code",
   "execution_count": 5,
   "metadata": {},
   "outputs": [],
   "source": [
    "param_grid = {\n",
    "    'n_estimators': [50, 100, 200],\n",
    "    'max_depth': [None, 10, 20],\n",
    "    'min_samples_split': [2, 5, 10]\n",
    "}"
   ]
  },
  {
   "cell_type": "code",
   "execution_count": 6,
   "metadata": {},
   "outputs": [],
   "source": [
    "grid_search = GridSearchCV(model, param_grid, cv=5, scoring='accuracy')\n",
    "grid_search.fit(X_train, y_train)\n",
    "best_model = grid_search.best_estimator_"
   ]
  },
  {
   "cell_type": "code",
   "execution_count": 7,
   "metadata": {},
   "outputs": [
    {
     "data": {
      "image/png": "[encoded data removed]",
      "text/plain": [
       "<Figure size 640x480 with 1 Axes>"
      ]
     },
     "metadata": {},
     "output_type": "display_data"
    }
   ],
   "source": [
    "# Visualizing Feature Importance\n",
    "feature_importance = pd.Series(best_model.feature_importances_, index=X.columns)\n",
    "feature_importance.sort_values().plot(kind='barh')\n",
    "plt.title(\"Feature Importance in Random Forest\")\n",
    "plt.show()"
   ]
  }
 ],
 "metadata": {
  "kernelspec": {
   "display_name": "Python 3",
   "language": "python",
   "name": "python3"
  },
  "language_info": {
   "codemirror_mode": {
    "name": "ipython",
    "version": 3
   },
   "file_extension": ".py",
   "mimetype": "text/x-python",
   "name": "python",
   "nbconvert_exporter": "python",
   "pygments_lexer": "ipython3",
   "version": "3.12.6"
  }
 },
 "nbformat": 4,
 "nbformat_minor": 2
}
