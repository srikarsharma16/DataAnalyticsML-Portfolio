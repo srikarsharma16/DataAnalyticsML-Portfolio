{
 "cells": [
  {
   "cell_type": "markdown",
   "metadata": {},
   "source": [
    "# 8.2. Predicting who will survive on the Titanic with logistic regression"
   ]
  },
  {
   "cell_type": "markdown",
   "metadata": {},
   "source": [
    "Logistic Regression (Titanic Dataset) Implementation\n",
    "=================================\n",
    "\n",
    "**Author:** Srikar Kalle  \n",
    "**Student ID:** C00313529  \n",
    "\n",
    "---------\n",
    "# Change Log:\n",
    "----------\n",
    "\n",
    "| SL No. | Change Category          | Description | Duration (mins) | Difficulty (1-10) |  \n",
    "|--------|--------------------------|-------------|-----------------|-------------------|  \n",
    "| 1      | Data Handling            | Replaced `assign()` with `pd.get_dummies()` for better categorical encoding. | 10 | 4 |  \n",
    "| 2      | Feature Scaling          | Introduced `StandardScaler` to normalize `Age` and `Pclass` for better model performance. | 15 | 5 |  \n",
    "| 3      | Hyperparameter Tuning    | Optimized Logistic Regression using `GridSearchCV` with an improved parameter grid. | 20 | 7 |  \n",
    "| 4      | Model Evaluation         | Introduced **ROC Curve & AUC Score** to assess model performance. | 15 | 6 |  \n",
    "| 5      | Test Split Update        | Increased `test_size` from **0.05** to **0.2** for a better validation split. | 5 | 3 |  \n",
    "| 6      | Model Implementation     | Implemented basic **Logistic Regression** using `LogisticRegression()`. | 10 | 3 |  \n",
    "| 7      | Cross-Validation         | Used `cross_val_score()` for performance evaluation. | 15 | 5 |  \n",
    "| 8      | Hyperparameter Optimization | Applied `GridSearchCV` with a logarithmic range of `C` values. | 20 | 7 |  \n",
    "| 9      | Data Preprocessing       | Converted `Sex` column into a binary `Female` column. | 10 | 4 |  \n",
    "| 10     | Data Preprocessing       | Dropped missing values from `Age`. | 5 | 3 |  \n",
    "| 11     | Performance Visualization | Compared actual vs. predicted values in a **heatmap**. | 10 | 4 |  \n"
   ]
  },
  {
   "cell_type": "code",
   "execution_count": 2,
   "metadata": {},
   "outputs": [],
   "source": [
    "import numpy as np\n",
    "import pandas as pd\n",
    "import sklearn\n",
    "import sklearn.linear_model as lm\n",
    "import sklearn.model_selection as ms\n",
    "import matplotlib.pyplot as plt\n",
    "import seaborn as sns\n",
    "from sklearn.preprocessing import StandardScaler\n",
    "from sklearn.metrics import confusion_matrix, classification_report, roc_curve, auc"
   ]
  },
  {
   "cell_type": "code",
   "execution_count": 3,
   "metadata": {},
   "outputs": [],
   "source": [
    "train = pd.read_csv('https://github.com/ipython-books'\n",
    "                    '/cookbook-2nd-data/blob/master/'\n",
    "                    'titanic_train.csv?raw=true')\n",
    "test = pd.read_csv('https://github.com/ipython-books/'\n",
    "                   'cookbook-2nd-data/blob/master/'\n",
    "                   'titanic_test.csv?raw=true')"
   ]
  },
  {
   "cell_type": "code",
   "execution_count": 4,
   "metadata": {},
   "outputs": [
    {
     "name": "stdout",
     "output_type": "stream",
     "text": [
      "<class 'pandas.core.frame.DataFrame'>\n",
      "RangeIndex: 891 entries, 0 to 890\n",
      "Data columns (total 12 columns):\n",
      " #   Column       Non-Null Count  Dtype  \n",
      "---  ------       --------------  -----  \n",
      " 0   PassengerId  891 non-null    int64  \n",
      " 1   Survived     891 non-null    int64  \n",
      " 2   Pclass       891 non-null    int64  \n",
      " 3   Name         891 non-null    object \n",
      " 4   Sex          891 non-null    object \n",
      " 5   Age          714 non-null    float64\n",
      " 6   SibSp        891 non-null    int64  \n",
      " 7   Parch        891 non-null    int64  \n",
      " 8   Ticket       891 non-null    object \n",
      " 9   Fare         891 non-null    float64\n",
      " 10  Cabin        204 non-null    object \n",
      " 11  Embarked     889 non-null    object \n",
      "dtypes: float64(2), int64(5), object(5)\n",
      "memory usage: 83.7+ KB\n",
      "None\n"
     ]
    }
   ],
   "source": [
    "print(train.info())"
   ]
  },
  {
   "cell_type": "code",
   "execution_count": 5,
   "metadata": {
    "podoc": {
     "output_text": "Output"
    }
   },
   "outputs": [],
   "source": [
    "# Feature Selection & Preprocessing\n",
    "data = train[['Age', 'Pclass', 'Survived']]\n",
    "# Convert categorical 'Sex' to binary variables\n",
    "data = pd.get_dummies(train[['Sex', 'Age', 'Pclass', 'Survived']], drop_first=True)\n",
    "data = data.dropna()  # Drop missing values"
   ]
  },
  {
   "cell_type": "code",
   "execution_count": 6,
   "metadata": {},
   "outputs": [],
   "source": [
    "# Standardizing Age and Pclass\n",
    "scaler = StandardScaler()\n",
    "data[['Age', 'Pclass']] = scaler.fit_transform(data[['Age', 'Pclass']])"
   ]
  },
  {
   "cell_type": "code",
   "execution_count": 7,
   "metadata": {},
   "outputs": [],
   "source": [
    "# Split into features and target variable\n",
    "X = data.drop(columns=['Survived'])\n",
    "y = data['Survived']"
   ]
  },
  {
   "cell_type": "code",
   "execution_count": 8,
   "metadata": {
    "podoc": {
     "output_text": "<matplotlib.figure.Figure at 0x5adbda0>"
    }
   },
   "outputs": [],
   "source": [
    "# Splitting dataset (Increased test size from 0.05 to 0.2)\n",
    "X_train, X_test, y_train, y_test = ms.train_test_split(X, y, test_size=0.2, random_state=42)"
   ]
  },
  {
   "cell_type": "code",
   "execution_count": 9,
   "metadata": {},
   "outputs": [],
   "source": [
    "# Instantiate logistic regression model\n",
    "logreg = lm.LogisticRegression()"
   ]
  },
  {
   "cell_type": "code",
   "execution_count": 10,
   "metadata": {},
   "outputs": [],
   "source": [
    "# Train the model\n",
    "logreg.fit(X_train, y_train)\n",
    "y_predicted = logreg.predict(X_test)"
   ]
  },
  {
   "cell_type": "code",
   "execution_count": 18,
   "metadata": {
    "podoc": {
     "output_text": "<matplotlib.figure.Figure at 0x8f5d160>"
    }
   },
   "outputs": [
    {
     "data": {
      "image/png": "[encoded data removed]",
      "text/plain": [
       "<Figure size 600x400 with 1 Axes>"
      ]
     },
     "metadata": {},
     "output_type": "display_data"
    }
   ],
   "source": [
    "# ROC Curve and AUC Score\n",
    "y_prob = logreg.predict_proba(X_test)[:, 1]\n",
    "fpr, tpr, _ = roc_curve(y_test, y_prob)\n",
    "roc_auc = auc(fpr, tpr)\n",
    "\n",
    "plt.figure(figsize=(6, 4))\n",
    "plt.plot(fpr, tpr, color='blue', label=f'ROC curve (AUC = {roc_auc:.2f})')\n",
    "plt.plot([0, 1], [0, 1], linestyle='--', color='gray')\n",
    "plt.xlabel(\"False Positive Rate\")\n",
    "plt.ylabel(\"True Positive Rate\")\n",
    "plt.title(\"ROC Curve\")\n",
    "plt.legend()\n",
    "plt.show()"
   ]
  },
  {
   "cell_type": "code",
   "execution_count": 19,
   "metadata": {},
   "outputs": [
    {
     "name": "stdout",
     "output_type": "stream",
     "text": [
      "Best Parameters: {'C': np.float64(0.1206792640639329)}\n"
     ]
    }
   ],
   "source": [
    "# Hyperparameter tuning using GridSearchCV\n",
    "param_grid = {'C': np.logspace(-5, 5, 50)}\n",
    "grid = ms.GridSearchCV(logreg, param_grid, cv=5, scoring='accuracy', n_jobs=-1)\n",
    "grid.fit(X_train, y_train)\n",
    "\n",
    "print(\"Best Parameters:\", grid.best_params_)"
   ]
  },
  {
   "cell_type": "code",
   "execution_count": 20,
   "metadata": {},
   "outputs": [
    {
     "name": "stdout",
     "output_type": "stream",
     "text": [
      "Cross-Validation Accuracy Scores: [0.73426573 0.83216783 0.8041958  0.75524476 0.81690141]\n",
      "Mean CV Accuracy: 0.79\n"
     ]
    }
   ],
   "source": [
    "# Evaluate best model\n",
    "best_logreg = grid.best_estimator_\n",
    "cv_scores = ms.cross_val_score(best_logreg, X, y, cv=5)\n",
    "print(\"Cross-Validation Accuracy Scores:\", cv_scores)\n",
    "print(f\"Mean CV Accuracy: {cv_scores.mean():.2f}\")"
   ]
  }
 ],
 "metadata": {
  "kernelspec": {
   "display_name": "Python 3",
   "language": "python",
   "name": "python3"
  },
  "language_info": {
   "codemirror_mode": {
    "name": "ipython",
    "version": 3
   },
   "file_extension": ".py",
   "mimetype": "text/x-python",
   "name": "python",
   "nbconvert_exporter": "python",
   "pygments_lexer": "ipython3",
   "version": "3.12.6"
  }
 },
 "nbformat": 4,
 "nbformat_minor": 2
}
